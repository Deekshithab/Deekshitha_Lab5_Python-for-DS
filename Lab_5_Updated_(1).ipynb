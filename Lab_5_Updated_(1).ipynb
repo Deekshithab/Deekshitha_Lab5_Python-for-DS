{
  "cells": [
    {
      "cell_type": "markdown",
      "id": "b233a58d",
      "metadata": {
        "id": "b233a58d"
      },
      "source": [
        "# <font color=darkblue> Machine Learning model deployment with Flask framework</font>"
      ]
    },
    {
      "cell_type": "markdown",
      "id": "2c4b2479",
      "metadata": {
        "id": "2c4b2479"
      },
      "source": [
        "## <font color=Blue>Used Cars Price Prediction Application</font>"
      ]
    },
    {
      "cell_type": "markdown",
      "id": "bad7f286",
      "metadata": {
        "id": "bad7f286"
      },
      "source": [
        "### Objective:\n",
        "1. To build a Machine learning regression model to predict the selling price of the used cars based on the different input features like fuel_type, kms_driven, type of transmission etc.\n",
        "2. Deploy the machine learning model with the help of the flask framework."
      ]
    },
    {
      "cell_type": "markdown",
      "id": "3c741642",
      "metadata": {
        "id": "3c741642"
      },
      "source": [
        "### Dataset Information:\n",
        "#### Dataset Source: https://www.kaggle.com/datasets/nehalbirla/vehicle-dataset-from-cardekho?select=CAR+DETAILS+FROM+CAR+DEKHO.csv\n",
        "This dataset contains information about used cars listed on www.cardekho.com\n",
        "- **Car_Name**: Name of the car\n",
        "- **Year**: Year of Purchase\n",
        "- **Selling Price (target)**: Selling price of the car in lakhs\n",
        "- **Present Price**: Present price of the car in lakhs\n",
        "- **Kms_Driven**: kilometers driven\n",
        "- **Fuel_Type**: Petrol/diesel/CNG\n",
        "- **Seller_Type**: Dealer or Indiviual\n",
        "- **Transmission**: Manual or Automatic\n",
        "- **Owner**: first, second or third owner\n"
      ]
    },
    {
      "cell_type": "markdown",
      "id": "a340f92c",
      "metadata": {
        "id": "a340f92c"
      },
      "source": [
        "### 1. Import required libraries"
      ]
    },
    {
      "cell_type": "code",
      "source": [
        "import pandas as pd\n",
        "import numpy as np\n",
        "import seaborn as sns\n",
        "import matplotlib.pyplot as plt\n",
        "%matplotlib inline\n",
        "\n",
        "from sklearn.preprocessing import StandardScaler\n",
        "from sklearn.model_selection import train_test_split\n",
        "from sklearn.ensemble import RandomForestRegressor\n",
        "from sklearn.metrics import r2_score\n",
        "\n",
        "import warnings\n",
        "warnings.filterwarnings('ignore')"
      ],
      "metadata": {
        "id": "DekbG2Sm7L00"
      },
      "id": "DekbG2Sm7L00",
      "execution_count": null,
      "outputs": []
    },
    {
      "cell_type": "markdown",
      "id": "38a2da95",
      "metadata": {
        "id": "38a2da95"
      },
      "source": [
        "### 2. Load the dataset"
      ]
    },
    {
      "cell_type": "code",
      "source": [
        "# If using Google Colab\n",
        "\n",
        "from google.colab import drive\n",
        "drive.mount('/content/drive')"
      ],
      "metadata": {
        "id": "LS5P5wps7MOv"
      },
      "id": "LS5P5wps7MOv",
      "execution_count": null,
      "outputs": []
    },
    {
      "cell_type": "code",
      "source": [
        "df = pd.read_csv('/content/drive/MyDrive/Datasets/car_data.csv')\n",
        "df.head()"
      ],
      "metadata": {
        "id": "f5T9KBHx7ex7"
      },
      "id": "f5T9KBHx7ex7",
      "execution_count": null,
      "outputs": []
    },
    {
      "cell_type": "markdown",
      "id": "26ecd9c6",
      "metadata": {
        "id": "26ecd9c6"
      },
      "source": [
        "### 3. Check the shape and basic information of the dataset."
      ]
    },
    {
      "cell_type": "code",
      "source": [
        "## lets check the shape\n",
        "df.shape"
      ],
      "metadata": {
        "id": "wd8XSTpf7Mng"
      },
      "id": "wd8XSTpf7Mng",
      "execution_count": null,
      "outputs": []
    },
    {
      "cell_type": "code",
      "source": [
        "## lets check the basic information of the dataset\n",
        "df.info()"
      ],
      "metadata": {
        "id": "RNRBK3qO799Y"
      },
      "id": "RNRBK3qO799Y",
      "execution_count": null,
      "outputs": []
    },
    {
      "cell_type": "markdown",
      "source": [
        "\n",
        "\n",
        "*   Also, We can observe that there are no missing values present in the\n",
        "  dataset.\n",
        "*   There are 4 categorical features and 5 numerical features.\n",
        "*   We have around 300 instances and 9 features.\n",
        "\n"
      ],
      "metadata": {
        "id": "988GIs7q8Htz"
      },
      "id": "988GIs7q8Htz"
    },
    {
      "cell_type": "markdown",
      "id": "06991b14",
      "metadata": {
        "id": "06991b14"
      },
      "source": [
        "### 4. Check for the presence of the duplicate records in the dataset? If present drop them"
      ]
    },
    {
      "cell_type": "code",
      "source": [
        "len(df[df.duplicated()])"
      ],
      "metadata": {
        "id": "-u5XA5d47Nbe"
      },
      "id": "-u5XA5d47Nbe",
      "execution_count": null,
      "outputs": []
    },
    {
      "cell_type": "markdown",
      "source": [
        "\n",
        "\n",
        "* We can observe that there are 2 duplicate records, lets drop them\n"
      ],
      "metadata": {
        "id": "60ldHb2nDHp3"
      },
      "id": "60ldHb2nDHp3"
    },
    {
      "cell_type": "code",
      "source": [
        "## dropping duplicates\n",
        "df.drop_duplicates(inplace=True)"
      ],
      "metadata": {
        "id": "LTqnrmLEDYbd"
      },
      "id": "LTqnrmLEDYbd",
      "execution_count": null,
      "outputs": []
    },
    {
      "cell_type": "code",
      "source": [
        "## recheck\n",
        "len(df[df.duplicated()])"
      ],
      "metadata": {
        "id": "3Li5RkZ2Doh4"
      },
      "id": "3Li5RkZ2Doh4",
      "execution_count": null,
      "outputs": []
    },
    {
      "cell_type": "markdown",
      "id": "367efc0b",
      "metadata": {
        "id": "367efc0b"
      },
      "source": [
        "### 5. Drop the columns which you think redundant for the analysis."
      ]
    },
    {
      "cell_type": "code",
      "source": [
        "## dropping the column name\n",
        "df.drop('Car_Name',axis=1,inplace=True)"
      ],
      "metadata": {
        "id": "gPMZesyr7OHb"
      },
      "id": "gPMZesyr7OHb",
      "execution_count": null,
      "outputs": []
    },
    {
      "cell_type": "markdown",
      "id": "7fb3674f",
      "metadata": {
        "id": "7fb3674f"
      },
      "source": [
        "### 6. Extract a new feature called 'age_of_the_car' from the feature 'year' and drop the feature year"
      ]
    },
    {
      "cell_type": "code",
      "source": [
        "## substracting the year of purchase with the current year and extracting the age of the car\n",
        "df['age_of_the_car'] = 2022 - df['Year']"
      ],
      "metadata": {
        "id": "-E8ZwwvE7Oe_"
      },
      "id": "-E8ZwwvE7Oe_",
      "execution_count": null,
      "outputs": []
    },
    {
      "cell_type": "code",
      "source": [
        "## dropping the column year\n",
        "df.drop('Year',axis=1,inplace=True)"
      ],
      "metadata": {
        "id": "39YWuHjKEMa-"
      },
      "id": "39YWuHjKEMa-",
      "execution_count": null,
      "outputs": []
    },
    {
      "cell_type": "code",
      "source": [
        "df.head(2)"
      ],
      "metadata": {
        "id": "6o_RRgWcEMwh"
      },
      "id": "6o_RRgWcEMwh",
      "execution_count": null,
      "outputs": []
    },
    {
      "cell_type": "markdown",
      "id": "8f3a144b",
      "metadata": {
        "id": "8f3a144b"
      },
      "source": [
        "### 7. Encode the categorical columns"
      ]
    },
    {
      "cell_type": "code",
      "source": [
        "df['Fuel_Type'].unique()"
      ],
      "metadata": {
        "id": "EUwBNILZ7PT9"
      },
      "id": "EUwBNILZ7PT9",
      "execution_count": null,
      "outputs": []
    },
    {
      "cell_type": "code",
      "source": [
        "df['Seller_Type'].unique()"
      ],
      "metadata": {
        "id": "iRKTolLjEx24"
      },
      "id": "iRKTolLjEx24",
      "execution_count": null,
      "outputs": []
    },
    {
      "cell_type": "code",
      "source": [
        "df['Transmission'].unique()"
      ],
      "metadata": {
        "id": "CP6UliZLEyC1"
      },
      "id": "CP6UliZLEyC1",
      "execution_count": null,
      "outputs": []
    },
    {
      "cell_type": "code",
      "source": [
        "## Manual Encoding:\n",
        "df['Fuel_Type'] = df['Fuel_Type'].replace({'Petrol':0, 'Diesel':1, 'CNG':2})\n",
        "\n",
        "df['Seller_Type'] = df['Seller_Type'].replace({'Dealer':0, 'Individual':1})\n",
        "\n",
        "df['Transmission'] = df['Transmission'].replace({'Manual':0, 'Automatic':1})"
      ],
      "metadata": {
        "id": "ziCd35yZE-_D"
      },
      "id": "ziCd35yZE-_D",
      "execution_count": null,
      "outputs": []
    },
    {
      "cell_type": "code",
      "source": [
        "df['Fuel_Type'].unique()"
      ],
      "metadata": {
        "id": "iB8iNa_QFIeq"
      },
      "id": "iB8iNa_QFIeq",
      "execution_count": null,
      "outputs": []
    },
    {
      "cell_type": "code",
      "source": [
        "df['Seller_Type'].unique()"
      ],
      "metadata": {
        "id": "v_7y4ZMdFIqG"
      },
      "id": "v_7y4ZMdFIqG",
      "execution_count": null,
      "outputs": []
    },
    {
      "cell_type": "code",
      "source": [
        "df['Transmission'].unique()"
      ],
      "metadata": {
        "id": "4qTFJ8cTFI0x"
      },
      "id": "4qTFJ8cTFI0x",
      "execution_count": null,
      "outputs": []
    },
    {
      "cell_type": "code",
      "source": [
        "## Final dataframe\n",
        "df.head(2)"
      ],
      "metadata": {
        "id": "SH79uJSXFVd-"
      },
      "id": "SH79uJSXFVd-",
      "execution_count": null,
      "outputs": []
    },
    {
      "cell_type": "markdown",
      "id": "8afe4984",
      "metadata": {
        "id": "8afe4984"
      },
      "source": [
        "### 8. Separate the target and independent features."
      ]
    },
    {
      "cell_type": "code",
      "source": [
        "X = df.drop('Selling_Price',axis=1)\n",
        "y = df['Selling_Price']"
      ],
      "metadata": {
        "id": "39E39X1y7Pvq"
      },
      "id": "39E39X1y7Pvq",
      "execution_count": null,
      "outputs": []
    },
    {
      "cell_type": "markdown",
      "id": "e12c5ef9",
      "metadata": {
        "id": "e12c5ef9"
      },
      "source": [
        "### 9. Split the data into train and test."
      ]
    },
    {
      "cell_type": "code",
      "source": [
        "X_train,X_test,y_train,y_test = train_test_split(X,y,test_size=0.3,random_state=0)\n",
        "\n",
        "print(X_train.shape,X_test.shape)\n",
        "print(y_train.shape,y_test.shape)"
      ],
      "metadata": {
        "id": "gvxCw7PF7Qon"
      },
      "id": "gvxCw7PF7Qon",
      "execution_count": null,
      "outputs": []
    },
    {
      "cell_type": "markdown",
      "id": "e86fbc33",
      "metadata": {
        "id": "e86fbc33"
      },
      "source": [
        "### 10. Build a Random forest Regressor model and check the r2-score for train and test."
      ]
    },
    {
      "cell_type": "code",
      "source": [
        "## Let us build simple random forest regressor model\n",
        "rf = RandomForestRegressor()\n",
        "rf.fit(X_train,y_train)"
      ],
      "metadata": {
        "id": "IiEKH-kh7Rsw"
      },
      "id": "IiEKH-kh7Rsw",
      "execution_count": null,
      "outputs": []
    },
    {
      "cell_type": "code",
      "source": [
        "## Let us check the r2-score to see hows our model is performing\n",
        "\n",
        "y_train_pred = rf.predict(X_train)\n",
        "y_test_pred = rf.predict(X_test)\n",
        "\n",
        "r2_train = r2_score(y_train,y_train_pred)\n",
        "r2_test = r2_score(y_test,y_test_pred)\n",
        "\n",
        "print('r2-score train:',r2_train)\n",
        "print('r2-score test',r2_test)"
      ],
      "metadata": {
        "id": "QCZKZeYcFqA2"
      },
      "id": "QCZKZeYcFqA2",
      "execution_count": null,
      "outputs": []
    },
    {
      "cell_type": "markdown",
      "id": "ab525b11",
      "metadata": {
        "id": "ab525b11"
      },
      "source": [
        "### 11. Create a pickle file with an extension as .pkl"
      ]
    },
    {
      "cell_type": "code",
      "source": [
        "import pickle\n",
        "# Saving model to disk\n",
        "pickle.dump(rf, open('model.pkl','wb'))"
      ],
      "metadata": {
        "id": "jLj3VeCH7Spb"
      },
      "id": "jLj3VeCH7Spb",
      "execution_count": null,
      "outputs": []
    },
    {
      "cell_type": "markdown",
      "id": "26246dc9",
      "metadata": {
        "id": "26246dc9"
      },
      "source": [
        "### 12. Create new folder/new project in visual studio/pycharm that should contain the \"model.pkl\" file *make sure you are using a virutal environment and install required packages.*"
      ]
    },
    {
      "cell_type": "markdown",
      "id": "0f2bd8b3",
      "metadata": {
        "id": "0f2bd8b3"
      },
      "source": [
        "### a) Create a basic HTML form for the frontend"
      ]
    },
    {
      "cell_type": "markdown",
      "id": "d5a3da56",
      "metadata": {
        "id": "d5a3da56"
      },
      "source": [
        "Create a file **index.html** in the templates folder and copy the following code."
      ]
    },
    {
      "cell_type": "code",
      "source": [
        "!jupyter nbconvert --to html \"/content/Copy_of_index.ipynb\""
      ],
      "metadata": {
        "id": "eemvjATbLZSb"
      },
      "id": "eemvjATbLZSb",
      "execution_count": null,
      "outputs": []
    },
    {
      "cell_type": "code",
      "source": [
        "<!DOCTYPE html>\n",
        "<html lang=\"en\">\n",
        "\n",
        "<head>\n",
        "    <meta charset=\"UTF-8\">\n",
        "    <meta name=\"viewport\" content=\"width=device-width, initial-scale=1.0\">\n",
        "    <title>Document</title>\n",
        "</head>\n",
        "\n",
        "<body>\n",
        "\n",
        "    <div class=\"hero-image\">\n",
        "      <div class=\"hero-text\">\n",
        "\n",
        "        <h1 style=\"font-size:50px\">Used Car Price Predictor</h1>\n",
        "         <br><br><h3>{{ prediction_text }}<h3>\n",
        "      </div>\n",
        "    </div>\n",
        "\n",
        "     <style>\n",
        "\n",
        "        body, html {\n",
        "          height: 100%;\n",
        "          margin: 0;\n",
        "          font-family: Arial, Helvetica, sans-serif;\n",
        "        }\n",
        "\n",
        "        .hero-image {\n",
        "          background-image: linear-gradient(rgba(0, 0, 0, 0.5), rgba(0, 0, 0, 0.5)), url('/static/image.jpg');\n",
        "          height: 50%;\n",
        "          background-position: bottom;\n",
        "          background-repeat: no-repeat;\n",
        "          background-size: cover;\n",
        "          position: relative;\n",
        "        }\n",
        "\n",
        "        .hero-text {\n",
        "          text-align: center;\n",
        "          position: absolute;\n",
        "          top: 50%;\n",
        "          left: 50%;\n",
        "          transform: translate(-50%, -50%);\n",
        "          color: white;\n",
        "        }\n",
        "\n",
        "    </style>\n",
        "\n",
        "\n",
        "    <div style=\"color:\trgb(0, 0, 0)\">\n",
        "        <form action=\"{{ url_for('predict')}}\" method=\"post\">\n",
        "            <h2>Enter Car Details: </h2>\n",
        "            <h3>Age of the car(In years)</h3>\n",
        "            <input id=\"first\" name=\"Age_of_the_car\" type=\"number \">\n",
        "            <h3>Present Showroom Price(In lakhs)</h3><br><input id=\"second\" name=\"Present_Price\" required=\"required\">\n",
        "            <h3>Kilometers Driven</h3><input id=\"third\" name=\"Kms_Driven\" required=\"required\">\n",
        "            <h3>Owner Type (0/1/3)</h3><br><input id=\"fourth\" name=\"Owner\" required=\"required\">\n",
        "            <h3>Fuel type</h3><br><select name=\"Fuel_Type\" id=\"fuel\" required=\"required\">\n",
        "                <option value=\"0\">Petrol</option>\n",
        "                <option value=\"1\">Diesel</option>\n",
        "                <option value=\"2\">CNG</option>\n",
        "            </select>\n",
        "            <h3>Seller Type</h3><br><select name=\"Seller_Type\" id=\"resea\" required=\"required\">\n",
        "                <option value=\"0\">Dealer</option>\n",
        "                <option value=\"1\">Individual</option>\n",
        "            </select>\n",
        "            <h3>Transmission type</h3><br><select name=\"Transmission\" id=\"research\" required=\"required\">\n",
        "                <option value=\"0\">Manual Car</option>\n",
        "                <option value=\"1\">Automatic Car</option>\n",
        "            </select>\n",
        "            <br><br><button id=\"sub\" type=\"submit \">Predict Selling Price</button>\n",
        "            <br>\n",
        "\n",
        "\n",
        "        </form>\n",
        "\n",
        "    </div>\n",
        "\n",
        "    <style>\n",
        "\tbody {\n",
        "            background-color: 101, 10, 20;\n",
        "            text-align: center;\n",
        "            padding: 0px;\n",
        "\t    font-family: Helvetica;\n",
        "        }\n",
        "\n",
        "        #research {\n",
        "            font-size: 18px;\n",
        "            width: 200px;\n",
        "            height: 23px;\n",
        "            top: 23px;\n",
        "        }\n",
        "\n",
        "        #box {\n",
        "            border-radius: 60px;\n",
        "            border-color: 45px;\n",
        "            border-style: solid;\n",
        "            text-align: center;\n",
        "            background-color: white;\n",
        "            font-size: medium;\n",
        "            position: absolute;\n",
        "            width: 700px;\n",
        "            bottom: 9%;\n",
        "            height: 850px;\n",
        "            right: 30%;\n",
        "            padding: 0px;\n",
        "            margin: 0px;\n",
        "            font-size: 14px;\n",
        "        }\n",
        "\n",
        "        #fuel {\n",
        "            width: 83px;\n",
        "            height: 43px;\n",
        "            text-align: center;\n",
        "            border-radius: 14px;\n",
        "            font-size: 20px;\n",
        "        }\n",
        "\n",
        "        #fuel:hover {\n",
        "            background-color: white;\n",
        "        }\n",
        "\n",
        "        #research {\n",
        "            width: 150px;\n",
        "            height: 43px;\n",
        "            text-align: center;\n",
        "            border-radius: 14px;\n",
        "            font-size: 18px;\n",
        "        }\n",
        "\n",
        "        #research:hover {\n",
        "            background-color: white;\n",
        "        }\n",
        "\n",
        "        #resea {\n",
        "            width: 99px;\n",
        "            height: 43px;\n",
        "            text-align: center;\n",
        "            border-radius: 14px;\n",
        "            font-size: 18px;\n",
        "        }\n",
        "\n",
        "        #resea:hover {\n",
        "            background-color: white;\n",
        "        }\n",
        "\n",
        "        #sub {\n",
        "            background-color: Green;\n",
        "            font-family:'Helvetica' monospace;\n",
        "            font-weight: bold;\n",
        "            width: 180px;\n",
        "            height: 60px;\n",
        "            text-align: center;\n",
        "            border-radius: 20px;\n",
        "            font-size: 18px;\n",
        "            color: white;\n",
        "        }\n",
        "\n",
        "        #sub:hover {\n",
        "            background-color: white;\n",
        "        }\n",
        "\n",
        "        #first {\n",
        "            border-radius: 14px;\n",
        "            height: 25px;\n",
        "            font-size: 20px;\n",
        "            text-align: center;\n",
        "        }\n",
        "\n",
        "        #second {\n",
        "            border-radius: 14px;\n",
        "            height: 25px;\n",
        "            font-size: 20px;\n",
        "            text-align: center;\n",
        "        }\n",
        "\n",
        "        #third {\n",
        "            border-radius: 14px;\n",
        "            height: 25px;\n",
        "            font-size: 20px;\n",
        "            text-align: center;\n",
        "        }\n",
        "\n",
        "        #fourth {\n",
        "            border-radius: 14px;\n",
        "            height: 25px;\n",
        "            font-size: 20px;\n",
        "            text-align: center;\n",
        "        }\n",
        "    </style>\n",
        "</body>\n",
        "\n",
        "</html>"
      ],
      "metadata": {
        "id": "SpHxX06YM159"
      },
      "id": "SpHxX06YM159",
      "execution_count": null,
      "outputs": []
    },
    {
      "cell_type": "markdown",
      "id": "ab774e57",
      "metadata": {
        "id": "ab774e57"
      },
      "source": [
        "### b) Create app.py file and write the predict function"
      ]
    },
    {
      "cell_type": "code",
      "source": [
        "from flask import Flask, render_template, request, jsonify\n",
        "import pickle\n",
        "import numpy as np\n",
        "import sklearn\n",
        "\n",
        "\n",
        "app = Flask(__name__)\n",
        "model = pickle.load(open('model.pkl', 'rb'))\n",
        "\n",
        "\n",
        "@app.route('/',methods=['GET'])\n",
        "def Home():\n",
        "    return render_template('index.html')\n",
        "\n",
        "\n",
        "@app.route(\"/predict\", methods=['POST'])\n",
        "def predict():\n",
        "    if request.method == 'POST':\n",
        "        Present_Price=float(request.form['Present_Price'])\n",
        "        Kms_Driven=int(request.form['Kms_Driven'])\n",
        "        Owner=int(request.form['Owner'])\n",
        "        Fuel_Type=request.form['Fuel_Type']\n",
        "        Age_of_the_car=request.form['Age_of_the_car']\n",
        "        Seller_Type=request.form['Seller_Type']\n",
        "        Transmission=request.form['Transmission']\n",
        "\n",
        "        prediction=model.predict([[Present_Price,Kms_Driven,Owner,Age_of_the_car,Fuel_Type,Seller_Type,Transmission]])\n",
        "        output=round(prediction[0],2)\n",
        "        return render_template('index.html',prediction_text=\"You can sell your car at {} lakhs\".format(output))\n",
        "\n",
        "if __name__==\"__main__\":\n",
        "    app.run(debug=True)"
      ],
      "metadata": {
        "id": "9r3rWra57UuQ"
      },
      "id": "9r3rWra57UuQ",
      "execution_count": null,
      "outputs": []
    },
    {
      "cell_type": "markdown",
      "source": [
        "### 13. Run the app.py python file which will render to index html page then enter the input values and get the prediction."
      ],
      "metadata": {
        "id": "CBewpqT7MEbb"
      },
      "id": "CBewpqT7MEbb"
    },
    {
      "cell_type": "code",
      "source": [
        "http://127.0.0.1:5000/"
      ],
      "metadata": {
        "id": "8g7gvFyD7VHN"
      },
      "id": "8g7gvFyD7VHN",
      "execution_count": null,
      "outputs": []
    },
    {
      "cell_type": "markdown",
      "id": "e899b5a2",
      "metadata": {
        "id": "e899b5a2"
      },
      "source": [
        "### Happy Learning :)"
      ]
    }
  ],
  "metadata": {
    "colab": {
      "provenance": []
    },
    "kernelspec": {
      "display_name": "Python 3 (ipykernel)",
      "language": "python",
      "name": "python3"
    },
    "language_info": {
      "codemirror_mode": {
        "name": "ipython",
        "version": 3
      },
      "file_extension": ".py",
      "mimetype": "text/x-python",
      "name": "python",
      "nbconvert_exporter": "python",
      "pygments_lexer": "ipython3",
      "version": "3.10.5"
    }
  },
  "nbformat": 4,
  "nbformat_minor": 5
}